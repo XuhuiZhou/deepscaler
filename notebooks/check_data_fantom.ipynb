{
 "cells": [
  {
   "cell_type": "markdown",
   "metadata": {},
   "source": [
    "!wget https://storage.googleapis.com/ai2-mosaic-public/projects/fantom/fantom.tar.gz\n",
    "!tar xvf fantom.tar.gz"
   ]
  },
  {
   "cell_type": "code",
   "execution_count": 8,
   "metadata": {},
   "outputs": [],
   "source": [
    "import pandas as pd\n",
    "import json\n",
    "import random\n",
    "\n",
    "class Args:\n",
    "    aggregation_target = 'set'\n",
    "    conversation_input_type = 'short'\n",
    "\n",
    "class Self:\n",
    "    args = Args()\n",
    "    fantom_df = pd.DataFrame(json.load(open(\"/home/jiaruil5/social_reasoning_rl/data/fantom/fantom_v1.json\", 'r')))\n",
    "\n",
    "def set_beliefQA_multiple_choices(qa):\n",
    "    if qa[\"question_type\"].endswith(\":inaccessible\"):\n",
    "        option_a = qa[\"wrong_answer\"]\n",
    "        option_b = qa[\"correct_answer\"]\n",
    "    else:\n",
    "        option_a = qa[\"wrong_answer\"]\n",
    "        option_b = qa[\"correct_answer\"]\n",
    "\n",
    "    answer_goes_last = random.choice([True, False])\n",
    "    if answer_goes_last:\n",
    "        choices = [option_a, option_b]\n",
    "        answer = 1\n",
    "    else:\n",
    "        choices = [option_b, option_a]\n",
    "        answer = 0\n",
    "\n",
    "    # option letters iterate over the alphabet\n",
    "    option_letters = [\n",
    "        \"(\" + chr(x) + \")\" for x in range(ord(\"a\"), len(choices) + ord(\"a\"))\n",
    "    ]\n",
    "    choices_text = \"\"\n",
    "    for letter, option in zip(option_letters, choices):\n",
    "        choices_text += \"{} {}\\n\".format(letter, option)\n",
    "\n",
    "    return choices_text, answer\n",
    "\n",
    "\n",
    "def setup_fantom(self):\n",
    "    \"\"\"\n",
    "    Flatten the dictionary and add short and full conversation context to each question.\n",
    "    The result will be a list of questions and list of short or full inputs to be used as input for the models.\n",
    "    \"\"\"\n",
    "    if self.args.aggregation_target == \"conversation\":\n",
    "        assert self.args.conversation_input_type == \"full\", \"The input type should have been the full conversation. It doesn't make sense to aggregate the scores over the full conversation when the input is not the full conversation\"\n",
    "\n",
    "    self.fantom_df_to_run = self.fantom_df\n",
    "\n",
    "    total_num_q = 0\n",
    "    for idx, _set in self.fantom_df_to_run.iterrows():\n",
    "        total_num_q += len(_set['beliefQAs'])\n",
    "        total_num_q += len(_set['answerabilityQAs_binary'])\n",
    "        total_num_q += len(_set['infoAccessibilityQAs_binary'])\n",
    "        if _set['factQA'] is not None:\n",
    "            total_num_q += 1\n",
    "        if _set['answerabilityQA_list'] is not None:\n",
    "            total_num_q += 1\n",
    "        if _set['infoAccessibilityQA_list'] is not None:\n",
    "            total_num_q += 1\n",
    "\n",
    "    inputs = []\n",
    "    qas = []\n",
    "    for idx, _set in self.fantom_df_to_run.iterrows():\n",
    "        if self.args.conversation_input_type == \"short\":\n",
    "            context = _set['short_context'].strip()\n",
    "        elif self.args.conversation_input_type == \"full\":\n",
    "            context = _set['full_context'].strip()\n",
    "        \n",
    "        set_id = _set['set_id']\n",
    "        fact_q = _set['factQA']['question']\n",
    "        fact_a = _set['factQA']['correct_answer']\n",
    "\n",
    "        # Fact Question\n",
    "        _set['factQA']['context'] = context\n",
    "        input_text = \"{}\\n\\nQuestion: {}\".format(context, fact_q)\n",
    "        _set['factQA']['input_text'] = input_text\n",
    "        _set['factQA']['set_id'] = set_id\n",
    "        qas.append(_set['factQA'])\n",
    "        inputs.append(input_text)\n",
    "\n",
    "        for _belief_qa in _set['beliefQAs']:\n",
    "            # Belief Questions\n",
    "            _belief_qa['context'] = context\n",
    "            input_text = \"{}\\n\\nQuestion: {}\".format(context, _belief_qa['question'])\n",
    "            _belief_qa['input_text'] = input_text\n",
    "            _belief_qa['set_id'] = set_id\n",
    "            qas.append(_belief_qa)\n",
    "            inputs.append(input_text)\n",
    "\n",
    "            # Multiple Choice Belief Questions\n",
    "            _mc_belief_qa = {**_belief_qa}\n",
    "            choices_text, answer = set_beliefQA_multiple_choices(_mc_belief_qa)\n",
    "            mc_question = \"{}\\n{}\\n\\nChoose an answer from above:\".format(_belief_qa['question'], choices_text.strip())\n",
    "            _mc_belief_qa['question'] = mc_question\n",
    "            _mc_belief_qa['question_type'] = _mc_belief_qa['question_type'] + \":multiple-choice\"\n",
    "            _mc_belief_qa['choices_text'] = choices_text\n",
    "            _mc_belief_qa['choices_list'] = choices_text.strip().split(\"\\n\")\n",
    "            _mc_belief_qa['correct_answer'] = answer\n",
    "            input_text = \"{}\\n\\nQuestion: {}\".format(context, mc_question)\n",
    "            _mc_belief_qa['input_text'] = input_text\n",
    "            qas.append(_mc_belief_qa)\n",
    "            inputs.append(input_text)\n",
    "\n",
    "        # Answerability List Questions\n",
    "        _set['answerabilityQA_list']['fact_question'] = fact_q\n",
    "        _set['answerabilityQA_list']['context'] = context\n",
    "        input_text = \"{}\\n\\nTarget: {}\\nQuestion: {}\".format(context, fact_q, _set['answerabilityQA_list']['question'])\n",
    "        _set['answerabilityQA_list']['input_text'] = input_text\n",
    "        _set['answerabilityQA_list']['set_id'] = set_id\n",
    "        if self.args.conversation_input_type == \"full\" and len(_set['answerabilityQA_list']['wrong_answer']) > 0:\n",
    "            _set['answerabilityQA_list']['missed_info_accessibility'] = 'inaccessible'\n",
    "        qas.append(_set['answerabilityQA_list'])\n",
    "        inputs.append(input_text)\n",
    "\n",
    "        # Answerability Binary Questions\n",
    "        if self.args.conversation_input_type == \"full\":\n",
    "            missed_info_accessibility_for_full = _set['answerabilityQAs_binary'][0]['missed_info_accessibility']\n",
    "            for _info_accessibility_qa in _set['answerabilityQAs_binary']:\n",
    "                if _info_accessibility_qa['correct_answer'] != \"yes\":\n",
    "                    missed_info_accessibility_for_full = 'inaccessible'\n",
    "\n",
    "        for _answerability_qa in _set['answerabilityQAs_binary']:\n",
    "            _answerability_qa['fact_question'] = fact_q\n",
    "            _answerability_qa['context'] = context\n",
    "            input_text = \"{}\\n\\nTarget: {}\\nQuestion: {} Answer yes or no.\".format(context, fact_q, _answerability_qa['question'])\n",
    "            _answerability_qa['input_text'] = input_text\n",
    "            _answerability_qa['set_id'] = set_id\n",
    "            if self.args.conversation_input_type == \"full\":\n",
    "                _answerability_qa['missed_info_accessibility'] = missed_info_accessibility_for_full\n",
    "            qas.append(_answerability_qa)\n",
    "            inputs.append(input_text)\n",
    "\n",
    "        # Info Accessibility List Questions\n",
    "        _set['infoAccessibilityQA_list']['fact_question'] = fact_q\n",
    "        _set['infoAccessibilityQA_list']['fact_answer'] = fact_a\n",
    "        _set['infoAccessibilityQA_list']['context'] = context\n",
    "        input_text = \"{}\\n\\nInformation: {} {}\\nQuestion: {}\".format(context, fact_q, fact_a, _set['infoAccessibilityQA_list']['question'])\n",
    "        _set['infoAccessibilityQA_list']['input_text'] = input_text\n",
    "        _set['infoAccessibilityQA_list']['set_id'] = set_id\n",
    "        if self.args.conversation_input_type == \"full\" and len(_set['infoAccessibilityQA_list']['wrong_answer']) > 0:\n",
    "            _set['infoAccessibilityQA_list']['missed_info_accessibility'] = 'inaccessible'\n",
    "        qas.append(_set['infoAccessibilityQA_list'])\n",
    "        inputs.append(input_text)\n",
    "\n",
    "        # Info Accessibility Binary Questions\n",
    "        if self.args.conversation_input_type == \"full\":\n",
    "            missed_info_accessibility_for_full = _set['infoAccessibilityQAs_binary'][0]['missed_info_accessibility']\n",
    "            for _info_accessibility_qa in _set['infoAccessibilityQAs_binary']:\n",
    "                if _info_accessibility_qa['correct_answer'] != \"yes\":\n",
    "                    missed_info_accessibility_for_full = 'inaccessible'\n",
    "\n",
    "        for _info_accessibility_qa in _set['infoAccessibilityQAs_binary']:\n",
    "            _info_accessibility_qa['fact_question'] = fact_q\n",
    "            _info_accessibility_qa['fact_answer'] = fact_a\n",
    "            _info_accessibility_qa['context'] = context\n",
    "            input_text = \"{}\\n\\nInformation: {} {}\\nQuestion: {} Answer yes or no.\".format(context, fact_q, fact_a, _info_accessibility_qa['question'])\n",
    "            _info_accessibility_qa['input_text'] = input_text\n",
    "            _info_accessibility_qa['set_id'] = set_id\n",
    "            if self.args.conversation_input_type == \"full\":\n",
    "                _info_accessibility_qa['missed_info_accessibility'] = missed_info_accessibility_for_full\n",
    "            qas.append(_info_accessibility_qa)\n",
    "            inputs.append(input_text)\n",
    "    \n",
    "    return qas, inputs"
   ]
  },
  {
   "cell_type": "code",
   "execution_count": 9,
   "metadata": {},
   "outputs": [],
   "source": [
    "self = Self()\n",
    "qas, inputs = setup_fantom(self)"
   ]
  },
  {
   "cell_type": "code",
   "execution_count": 10,
   "metadata": {},
   "outputs": [
    {
     "data": {
      "text/plain": [
       "(12832, 12832)"
      ]
     },
     "execution_count": 10,
     "metadata": {},
     "output_type": "execute_result"
    }
   ],
   "source": [
    "len(qas), len(inputs)"
   ]
  },
  {
   "cell_type": "code",
   "execution_count": 11,
   "metadata": {},
   "outputs": [
    {
     "data": {
      "text/plain": [
       "{'question': 'Who discussed their experiences training their pets, Bruno and Snowflake?',\n",
       " 'question_type': 'fact',\n",
       " 'correct_answer': 'Sara and Javier discussed their experiences training their pets, Bruno and Snowflake.',\n",
       " 'wrong_answer': \"Javier discussed training his pet, Bruno. The text doesn't mention anyone training a pet named Snowflake.\",\n",
       " 'context': \"Gianna: Guys, I've really enjoyed sharing our pet stories, but I need to excuse myself. I need to change clothes for a meeting later. Talk to you later!\\nSara: Sure thing, Gianna. Take care!\\nJavier: Catch you later, Gianna.\\nSara: So Javier, have you ever tried training Bruno?\\nJavier: Yes, I did actually. It was a challenge at times, but rewarding nevertheless. How about you? Did you try training Snowflake?\\nSara: Oh gosh, trying to train a cat is a whole different ball game. But I did manage to teach her a few commands and tricks. She was quite an intelligent little furball.\\nGianna: Hey guys, I'm back, couldn't miss out on more pet stories. Speaking of teaching and training pets, it is amazing how that further strengthens the bond between us and our pets, right?\\nSara: Absolutely, Gianna! The fact that they trust us enough to learn from us is really special.\\nJavier: I can't agree more. I believe that's one of the ways Bruno conveyed his love and trust towards me. It also gave me a sense of responsibility towards him.\\nGianna: Just like Chirpy. Once she began to imitate me, we connected in a way I never imagined. She would repeat words that I was studying for exams and that somehow made studying less stressful.\\nJavier: Pets are indeed lifesavers in so many ways.\\nSara: They bring so much joy and laughter too into our lives. I mean, imagine a little kitten stuck in a vase! I couldn't have asked for a better stress buster during my college days.\\nGianna: Totally, they all are so amazing in their unique ways. It's so nice to have these memories to look back on.\",\n",
       " 'input_text': \"Gianna: Guys, I've really enjoyed sharing our pet stories, but I need to excuse myself. I need to change clothes for a meeting later. Talk to you later!\\nSara: Sure thing, Gianna. Take care!\\nJavier: Catch you later, Gianna.\\nSara: So Javier, have you ever tried training Bruno?\\nJavier: Yes, I did actually. It was a challenge at times, but rewarding nevertheless. How about you? Did you try training Snowflake?\\nSara: Oh gosh, trying to train a cat is a whole different ball game. But I did manage to teach her a few commands and tricks. She was quite an intelligent little furball.\\nGianna: Hey guys, I'm back, couldn't miss out on more pet stories. Speaking of teaching and training pets, it is amazing how that further strengthens the bond between us and our pets, right?\\nSara: Absolutely, Gianna! The fact that they trust us enough to learn from us is really special.\\nJavier: I can't agree more. I believe that's one of the ways Bruno conveyed his love and trust towards me. It also gave me a sense of responsibility towards him.\\nGianna: Just like Chirpy. Once she began to imitate me, we connected in a way I never imagined. She would repeat words that I was studying for exams and that somehow made studying less stressful.\\nJavier: Pets are indeed lifesavers in so many ways.\\nSara: They bring so much joy and laughter too into our lives. I mean, imagine a little kitten stuck in a vase! I couldn't have asked for a better stress buster during my college days.\\nGianna: Totally, they all are so amazing in their unique ways. It's so nice to have these memories to look back on.\\n\\nQuestion: Who discussed their experiences training their pets, Bruno and Snowflake?\",\n",
       " 'set_id': '0-0-0'}"
      ]
     },
     "execution_count": 11,
     "metadata": {},
     "output_type": "execute_result"
    }
   ],
   "source": [
    "qas[0]"
   ]
  },
  {
   "cell_type": "code",
   "execution_count": 12,
   "metadata": {},
   "outputs": [
    {
     "data": {
      "text/plain": [
       "\"Gianna: Guys, I've really enjoyed sharing our pet stories, but I need to excuse myself. I need to change clothes for a meeting later. Talk to you later!\\nSara: Sure thing, Gianna. Take care!\\nJavier: Catch you later, Gianna.\\nSara: So Javier, have you ever tried training Bruno?\\nJavier: Yes, I did actually. It was a challenge at times, but rewarding nevertheless. How about you? Did you try training Snowflake?\\nSara: Oh gosh, trying to train a cat is a whole different ball game. But I did manage to teach her a few commands and tricks. She was quite an intelligent little furball.\\nGianna: Hey guys, I'm back, couldn't miss out on more pet stories. Speaking of teaching and training pets, it is amazing how that further strengthens the bond between us and our pets, right?\\nSara: Absolutely, Gianna! The fact that they trust us enough to learn from us is really special.\\nJavier: I can't agree more. I believe that's one of the ways Bruno conveyed his love and trust towards me. It also gave me a sense of responsibility towards him.\\nGianna: Just like Chirpy. Once she began to imitate me, we connected in a way I never imagined. She would repeat words that I was studying for exams and that somehow made studying less stressful.\\nJavier: Pets are indeed lifesavers in so many ways.\\nSara: They bring so much joy and laughter too into our lives. I mean, imagine a little kitten stuck in a vase! I couldn't have asked for a better stress buster during my college days.\\nGianna: Totally, they all are so amazing in their unique ways. It's so nice to have these memories to look back on.\\n\\nQuestion: Who discussed their experiences training their pets, Bruno and Snowflake?\""
      ]
     },
     "execution_count": 12,
     "metadata": {},
     "output_type": "execute_result"
    }
   ],
   "source": [
    "inputs[0]"
   ]
  }
 ],
 "metadata": {
  "kernelspec": {
   "display_name": "tinyzero",
   "language": "python",
   "name": "python3"
  },
  "language_info": {
   "codemirror_mode": {
    "name": "ipython",
    "version": 3
   },
   "file_extension": ".py",
   "mimetype": "text/x-python",
   "name": "python",
   "nbconvert_exporter": "python",
   "pygments_lexer": "ipython3",
   "version": "3.9.21"
  }
 },
 "nbformat": 4,
 "nbformat_minor": 2
}
